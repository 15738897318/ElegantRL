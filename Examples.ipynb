{
  "nbformat": 4,
  "nbformat_minor": 0,
  "metadata": {
    "colab": {
      "name": "Examples.ipynb",
      "provenance": [],
      "authorship_tag": "ABX9TyOQFjKkIrYf142RX9j1z9lJ",
      "include_colab_link": true
    },
    "kernelspec": {
      "name": "python3",
      "display_name": "Python 3"
    }
  },
  "cells": [
    {
      "cell_type": "markdown",
      "metadata": {
        "id": "view-in-github",
        "colab_type": "text"
      },
      "source": [
        "<a href=\"https://colab.research.google.com/github/AI4Finance-LLC/ElegantRL/blob/master/Examples.ipynb\" target=\"_parent\"><img src=\"https://colab.research.google.com/assets/colab-badge.svg\" alt=\"Open In Colab\"/></a>"
      ]
    },
    {
      "cell_type": "code",
      "metadata": {
        "colab": {
          "base_uri": "https://localhost:8080/"
        },
        "id": "-SOa1Cu7eQ9J",
        "outputId": "6a059bca-6900-4e0f-8998-f90c9312769a"
      },
      "source": [
        "## install ElegantRL\r\n",
        "!pip install git+https://github.com/AI4Finance-LLC/ElegantRL.git"
      ],
      "execution_count": 18,
      "outputs": [
        {
          "output_type": "stream",
          "text": [
            "Collecting git+https://github.com/AI4Finance-LLC/ElegantRL.git\n",
            "  Cloning https://github.com/AI4Finance-LLC/ElegantRL.git to /tmp/pip-req-build-rpsu97se\n",
            "  Running command git clone -q https://github.com/AI4Finance-LLC/ElegantRL.git /tmp/pip-req-build-rpsu97se\n",
            "Requirement already satisfied: numpy in /usr/local/lib/python3.7/dist-packages (from ElegantRL==0.0.1) (1.19.5)\n",
            "Requirement already satisfied: matplotlib in /usr/local/lib/python3.7/dist-packages (from ElegantRL==0.0.1) (3.2.2)\n",
            "Requirement already satisfied: torch>=1.0.2 in /usr/local/lib/python3.7/dist-packages (from ElegantRL==0.0.1) (1.7.0+cu101)\n",
            "Requirement already satisfied: gym>=0.17 in /usr/local/lib/python3.7/dist-packages (from ElegantRL==0.0.1) (0.17.3)\n",
            "Collecting pybullet\n",
            "  Using cached https://files.pythonhosted.org/packages/6b/b6/719c6e1741fe6126c99d9f3a96fbb9f024ec12a60e6718843f33c7cab1b0/pybullet-3.0.8-cp37-cp37m-manylinux1_x86_64.whl\n",
            "Requirement already satisfied: cycler>=0.10 in /usr/local/lib/python3.7/dist-packages (from matplotlib->ElegantRL==0.0.1) (0.10.0)\n",
            "Requirement already satisfied: pyparsing!=2.0.4,!=2.1.2,!=2.1.6,>=2.0.1 in /usr/local/lib/python3.7/dist-packages (from matplotlib->ElegantRL==0.0.1) (2.4.7)\n",
            "Requirement already satisfied: python-dateutil>=2.1 in /usr/local/lib/python3.7/dist-packages (from matplotlib->ElegantRL==0.0.1) (2.8.1)\n",
            "Requirement already satisfied: kiwisolver>=1.0.1 in /usr/local/lib/python3.7/dist-packages (from matplotlib->ElegantRL==0.0.1) (1.3.1)\n",
            "Requirement already satisfied: future in /usr/local/lib/python3.7/dist-packages (from torch>=1.0.2->ElegantRL==0.0.1) (0.16.0)\n",
            "Requirement already satisfied: dataclasses in /usr/local/lib/python3.7/dist-packages (from torch>=1.0.2->ElegantRL==0.0.1) (0.6)\n",
            "Requirement already satisfied: typing-extensions in /usr/local/lib/python3.7/dist-packages (from torch>=1.0.2->ElegantRL==0.0.1) (3.7.4.3)\n",
            "Requirement already satisfied: scipy in /usr/local/lib/python3.7/dist-packages (from gym>=0.17->ElegantRL==0.0.1) (1.4.1)\n",
            "Requirement already satisfied: pyglet<=1.5.0,>=1.4.0 in /usr/local/lib/python3.7/dist-packages (from gym>=0.17->ElegantRL==0.0.1) (1.5.0)\n",
            "Requirement already satisfied: cloudpickle<1.7.0,>=1.2.0 in /usr/local/lib/python3.7/dist-packages (from gym>=0.17->ElegantRL==0.0.1) (1.3.0)\n",
            "Requirement already satisfied: six in /usr/local/lib/python3.7/dist-packages (from cycler>=0.10->matplotlib->ElegantRL==0.0.1) (1.15.0)\n",
            "Building wheels for collected packages: ElegantRL\n",
            "  Building wheel for ElegantRL (setup.py) ... \u001b[?25l\u001b[?25hdone\n",
            "  Created wheel for ElegantRL: filename=ElegantRL-0.0.1-cp37-none-any.whl size=1846 sha256=044d95a3c4627e3be9003b58cd69c90caace7bee41be15d42a7bd69868611fc9\n",
            "  Stored in directory: /tmp/pip-ephem-wheel-cache-k60pvg9k/wheels/d0/f4/2e/cec0c14b57c2094a2bcef3063f95d758ad1309a640ff100419\n",
            "Successfully built ElegantRL\n",
            "Installing collected packages: pybullet, ElegantRL\n",
            "Successfully installed ElegantRL-0.0.1 pybullet-3.0.8\n"
          ],
          "name": "stdout"
        }
      ]
    },
    {
      "cell_type": "code",
      "metadata": {
        "colab": {
          "base_uri": "https://localhost:8080/",
          "height": 502
        },
        "id": "FxLOYnSl3yph",
        "outputId": "03a70a93-7bef-4343-c5b2-bdcc1c23acad"
      },
      "source": [
        "import ElegantRL.AgentNet as AgentNet \r\n",
        "import ElegantRL.AgentZoo as AgentZoo \r\n",
        "\r\n",
        "import ElegantRL.AgentRun as AgentRun \r\n",
        "import ElegantRL.AgentEnv as AgentEnv\r\n",
        "# algorithm\r\n",
        "from AgentZoo import AgentDoubleDQN\r\n",
        "# training\r\n",
        "from AgentRun import Arguments, train_and_evaluate\r\n",
        "# environment\r\n",
        "from AgentEnv import decorate_env\r\n",
        "import gym  # gym of OpenAI is not necessary for ElegantRL (even RL)\r\n",
        "gym.logger.set_level(40)  # Block warning: 'WARN: Box bound precision lowered by casting to float32'"
      ],
      "execution_count": 28,
      "outputs": [
        {
          "output_type": "error",
          "ename": "ModuleNotFoundError",
          "evalue": "ignored",
          "traceback": [
            "\u001b[0;31m---------------------------------------------------------------------------\u001b[0m",
            "\u001b[0;31mModuleNotFoundError\u001b[0m                       Traceback (most recent call last)",
            "\u001b[0;32m<ipython-input-28-211bfb93cb84>\u001b[0m in \u001b[0;36m<module>\u001b[0;34m()\u001b[0m\n\u001b[1;32m      1\u001b[0m \u001b[0;32mimport\u001b[0m \u001b[0mElegantRL\u001b[0m\u001b[0;34m.\u001b[0m\u001b[0mAgentNet\u001b[0m \u001b[0;32mas\u001b[0m \u001b[0mAgentNet\u001b[0m\u001b[0;34m\u001b[0m\u001b[0;34m\u001b[0m\u001b[0m\n\u001b[0;32m----> 2\u001b[0;31m \u001b[0;32mimport\u001b[0m \u001b[0mElegantRL\u001b[0m\u001b[0;34m.\u001b[0m\u001b[0mAgentZoo\u001b[0m \u001b[0;32mas\u001b[0m \u001b[0mAgentZoo\u001b[0m\u001b[0;34m\u001b[0m\u001b[0;34m\u001b[0m\u001b[0m\n\u001b[0m\u001b[1;32m      3\u001b[0m \u001b[0;32mimport\u001b[0m \u001b[0mElegantRL\u001b[0m\u001b[0;34m.\u001b[0m\u001b[0mAgentRun\u001b[0m \u001b[0;32mas\u001b[0m \u001b[0mAgentRun\u001b[0m\u001b[0;34m\u001b[0m\u001b[0;34m\u001b[0m\u001b[0m\n\u001b[1;32m      4\u001b[0m \u001b[0;32mimport\u001b[0m \u001b[0mElegantRL\u001b[0m\u001b[0;34m.\u001b[0m\u001b[0mAgentEnv\u001b[0m \u001b[0;32mas\u001b[0m \u001b[0mAgentEnv\u001b[0m\u001b[0;34m\u001b[0m\u001b[0;34m\u001b[0m\u001b[0m\n\u001b[1;32m      5\u001b[0m \u001b[0;31m# algorithm\u001b[0m\u001b[0;34m\u001b[0m\u001b[0;34m\u001b[0m\u001b[0;34m\u001b[0m\u001b[0m\n",
            "\u001b[0;32m/content/ElegantRL/AgentZoo.py\u001b[0m in \u001b[0;36m<module>\u001b[0;34m()\u001b[0m\n\u001b[1;32m      3\u001b[0m \u001b[0;32mimport\u001b[0m \u001b[0mnumpy\u001b[0m \u001b[0;32mas\u001b[0m \u001b[0mnp\u001b[0m\u001b[0;34m\u001b[0m\u001b[0;34m\u001b[0m\u001b[0m\n\u001b[1;32m      4\u001b[0m \u001b[0;32mimport\u001b[0m \u001b[0mnumpy\u001b[0m\u001b[0;34m.\u001b[0m\u001b[0mrandom\u001b[0m \u001b[0;32mas\u001b[0m \u001b[0mrd\u001b[0m\u001b[0;34m\u001b[0m\u001b[0;34m\u001b[0m\u001b[0m\n\u001b[0;32m----> 5\u001b[0;31m \u001b[0;32mfrom\u001b[0m \u001b[0mAgentNet\u001b[0m \u001b[0;32mimport\u001b[0m \u001b[0mQNet\u001b[0m\u001b[0;34m,\u001b[0m \u001b[0mQNetTwin\u001b[0m\u001b[0;34m\u001b[0m\u001b[0;34m\u001b[0m\u001b[0m\n\u001b[0m\u001b[1;32m      6\u001b[0m \u001b[0;32mfrom\u001b[0m \u001b[0mAgentNet\u001b[0m \u001b[0;32mimport\u001b[0m \u001b[0mActor\u001b[0m\u001b[0;34m,\u001b[0m \u001b[0mActorSAC\u001b[0m\u001b[0;34m,\u001b[0m \u001b[0mActorPPO\u001b[0m\u001b[0;34m\u001b[0m\u001b[0;34m\u001b[0m\u001b[0m\n\u001b[1;32m      7\u001b[0m \u001b[0;32mfrom\u001b[0m \u001b[0mAgentNet\u001b[0m \u001b[0;32mimport\u001b[0m \u001b[0mCritic\u001b[0m\u001b[0;34m,\u001b[0m \u001b[0mCriticAdv\u001b[0m\u001b[0;34m,\u001b[0m \u001b[0mCriticTwin\u001b[0m\u001b[0;34m\u001b[0m\u001b[0;34m\u001b[0m\u001b[0m\n",
            "\u001b[0;31mModuleNotFoundError\u001b[0m: No module named 'AgentNet'",
            "",
            "\u001b[0;31m---------------------------------------------------------------------------\u001b[0;32m\nNOTE: If your import is failing due to a missing package, you can\nmanually install dependencies using either !pip or !apt.\n\nTo view examples of installing some common dependencies, click the\n\"Open Examples\" button below.\n\u001b[0;31m---------------------------------------------------------------------------\u001b[0m\n"
          ]
        }
      ]
    }
  ]
}