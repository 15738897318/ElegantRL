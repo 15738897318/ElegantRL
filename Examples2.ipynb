{
  "nbformat": 4,
  "nbformat_minor": 0,
  "metadata": {
    "colab": {
      "name": "Examples.ipynb",
      "provenance": [],
      "collapsed_sections": [],
      "authorship_tag": "ABX9TyOKU0O80s+FeLUYRiaprNkK",
      "include_colab_link": true
    },
    "kernelspec": {
      "name": "python3",
      "display_name": "Python 3"
    }
  },
  "cells": [
    {
      "cell_type": "markdown",
      "metadata": {
        "id": "view-in-github",
        "colab_type": "text"
      },
      "source": [
        "<a href=\"https://colab.research.google.com/github/AI4Finance-LLC/ElegantRL/blob/master/Examples2.ipynb\" target=\"_parent\"><img src=\"https://colab.research.google.com/assets/colab-badge.svg\" alt=\"Open In Colab\"/></a>"
      ]
    },
    {
      "cell_type": "code",
      "metadata": {
        "colab": {
          "base_uri": "https://localhost:8080/"
        },
        "id": "-SOa1Cu7eQ9J",
        "outputId": "1d95d417-4914-4e94-ab6e-6673a348bce0"
      },
      "source": [
        "import os\r\n",
        "os.chdir('/content')\r\n",
        "!git clone https://github.com/AI4Finance-LLC/ElegantRL.git\r\n",
        "os.chdir('/content/ElegantRL')\r\n",
        "!ls"
      ],
      "execution_count": 1,
      "outputs": [
        {
          "output_type": "stream",
          "text": [
            "Cloning into 'ElegantRL'...\n",
            "remote: Enumerating objects: 31, done.\u001b[K\n",
            "remote: Counting objects: 100% (31/31), done.\u001b[K\n",
            "remote: Compressing objects: 100% (29/29), done.\u001b[K\n",
            "remote: Total 2315 (delta 13), reused 7 (delta 2), pack-reused 2284\u001b[K\n",
            "Receiving objects: 100% (2315/2315), 35.63 MiB | 34.52 MiB/s, done.\n",
            "Resolving deltas: 100% (1528/1528), done.\n",
            "elegantrl\t\t  Examples.ipynb\t LICENSE\t   setup.py\n",
            "elegantrl2\t\t  figs\t\t\t README.md\n",
            "ElegantRL_examples.ipynb  FinanceMultiStock.npy  requirements.txt\n"
          ],
          "name": "stdout"
        }
      ]
    },
    {
      "cell_type": "code",
      "metadata": {
        "id": "1VM1xKujoz-6"
      },
      "source": [
        "from elegantrl2.main import *\r\n",
        "import gym\r\n",
        "from elegantrl2.env import decorate_env, FinanceMultiStockEnv\r\n",
        "import elegantrl2.agent as agent\r\n",
        "gym.logger.set_level(40)\r\n"
      ],
      "execution_count": 3,
      "outputs": []
    },
    {
      "cell_type": "code",
      "metadata": {
        "id": "E03f6cTeajK4"
      },
      "source": [
        "args = Arguments(if_on_policy=True)\r\n",
        "args.agent_rl = agent.AgentGaePPO  # PPO+GAE (on-policy)\r\n",
        "args.env = FinanceMultiStockEnv(if_train=True)  # a standard env for ElegantRL, not need decorate_env()\r\n",
        "args.env_eval = FinanceMultiStockEnv(if_train=False)\r\n",
        "args.break_step = int(2e6)  # 5e6 (15e6) UsedTime 3,000s (9,000s)\r\n",
        "args.net_dim = 2 ** 8\r\n",
        "args.max_step = args.env.max_step\r\n",
        "args.max_memo = (args.max_step - 1) * 8\r\n",
        "args.batch_size = 2 ** 11\r\n",
        "args.repeat_times = 2 ** 4\r\n",
        "args.eval_times = 2 ** 3\r\n",
        "\r\n",
        "# train_and_evaluate(args)\r\n",
        "args.rollout_num = 8\r\n"
      ],
      "execution_count": 6,
      "outputs": []
    },
    {
      "cell_type": "code",
      "metadata": {
        "colab": {
          "base_uri": "https://localhost:8080/"
        },
        "id": "KGOPSD6da23k",
        "outputId": "d861685b-40a7-413d-e32a-0d55c7443bcb"
      },
      "source": [
        "train_and_evaluate__multiprocessing(args)"
      ],
      "execution_count": null,
      "outputs": [
        {
          "output_type": "stream",
          "text": [
            "| GPU id: 0, cwd: ./AgentGaePPO/FinanceStock-v2_0\n",
            "| Remove history\n",
            "ID      Step      MaxR |    avgR      stdR       objA      objC\n",
            ";0\n",
            "0   0.00e+00      1.04 |\n",
            "0   2.05e+04      1.07 |\n",
            "0   1.33e+05      1.07 |    0.95      0.07      -0.50      0.03\n",
            "0   2.66e+05      1.07 |    0.96      0.05      -0.51      0.04\n",
            "0   3.99e+05      1.07 |    0.94      0.05      -0.51      0.04\n",
            "0   5.32e+05      1.07 |    0.88      0.04      -0.51      0.05\n",
            "0   6.65e+05      1.07 |    0.97      0.04      -0.52      0.05\n",
            "0   7.98e+05      1.07 |    0.91      0.03      -0.53      0.03\n",
            "0   9.31e+05      1.07 |    0.91      0.06      -0.53      0.11\n",
            "0   1.06e+06      1.07 |    0.81      0.05      -0.54      0.04\n",
            "0   1.20e+06      1.07 |    0.82      0.05      -0.54      0.03\n",
            "0   1.33e+06      1.07 |    0.89      0.05      -0.54      0.03\n",
            "0   1.46e+06      1.07 |    0.91      0.05      -0.55      0.02\n",
            "0   1.60e+06      1.07 |    0.84      0.05      -0.55      0.03\n",
            "0   1.73e+06      1.07 |    0.81      0.03      -0.56      0.03\n",
            "0   1.86e+06      1.07 |    0.84      0.03      -0.56      0.04\n"
          ],
          "name": "stdout"
        }
      ]
    },
    {
      "cell_type": "code",
      "metadata": {
        "id": "GY8AY-U3cnYt"
      },
      "source": [
        "draw_cumulative_return_curve()"
      ],
      "execution_count": null,
      "outputs": []
    }
  ]
}